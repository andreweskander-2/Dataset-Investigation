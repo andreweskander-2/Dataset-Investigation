{
 "cells": [
  {
   "cell_type": "markdown",
   "metadata": {},
   "source": [
    "\n",
    "# Project: World Development Indicators\n",
    "\n",
    "## Table of Contents\n",
    "<ul>\n",
    "<li><a href=\"#intro\">Introduction</a></li>\n",
    "<li><a href=\"#wrangling\">Data Wrangling</a></li>\n",
    "<li><a href=\"#eda\">Exploratory Data Analysis</a></li>\n",
    "<li><a href=\"#conclusions\">Conclusions</a></li>\n",
    "</ul>"
   ]
  },
  {
   "cell_type": "markdown",
   "metadata": {},
   "source": [
    "<a id='intro'></a>\n",
    "## Introduction\n",
    "\n",
    "### Dataset Description \n",
    "\n",
    "> **Tip**: In this section of the report, provide a brief introduction to the dataset you've selected/downloaded for analysis. Read through the description available on the homepage-links present [here](https://docs.google.com/document/d/e/2PACX-1vTlVmknRRnfy_4eTrjw5hYGaiQim5ctr9naaRd4V9du2B5bxpd8FEH3KtDgp8qVekw7Cj1GLk1IXdZi/pub?embedded=True). List all column names in each table, and their significance. In case of multiple tables, describe the relationship between tables. \n",
    "\n",
    "The dataset that was selected for the analysis is for 100k medical appointments absence sheet. The appointments are all based in Brazil. The dataset contains information on the appointment details such as date and time, patient details and their attendance. Below is a break down of each column and its significance:\n",
    "Patient ID:      Integer\n",
    "Appointment ID:  Integer   \n",
    "Gender:          Male or Female\n",
    "Scheduled Day:   Date of scheduling the appointment\n",
    "Appointment Day: Date of the appointment itself\n",
    "Age:             The patient age\n",
    "Neighbourhood:   The Neighbourhood where the patient is from\n",
    "Scholarship:     Whether the patient receives support to fund themselves medically\n",
    "Hipertension:    Boolean     \n",
    "Diabetes:        Boolean\n",
    "Alcoholism:      Boolean\n",
    "Handcap:         Boolean\n",
    "SMS_received:    Whether the patient received a reminder text or not\n",
    "No-show:         Whether the patient showed-up to his appointment or not.\n",
    "\n",
    "The goal of the investigation is to be able to make a conclusion on whether these variables can be related to the patient not showing up to the appointment and hence enable us to predict whether a certain patient is predicted to show-up or not.\n",
    "\n",
    "\n",
    "### Question(s) for Analysis\n",
    "\n",
    "The investigation is to find out if there is a relationship between:\n",
    "1- patients age and showing up\n",
    "2- the day of schedueling the appointment and showing up\n",
    "3- the neighbourhood and showing up\n",
    "4- the scholarship and showing up\n",
    "\n",
    "and to draw a conclusion if feasible from this information to predict the patient attendance.\n"
   ]
  },
  {
   "cell_type": "code",
   "execution_count": 1,
   "metadata": {},
   "outputs": [],
   "source": [
    "# Importing needed libraries\n",
    "\n",
    "import pandas as pd\n",
    "import numpy as np\n",
    "import matplotlib.pyplot as plt\n",
    "% matplotlib inline\n",
    "\n"
   ]
  },
  {
   "cell_type": "markdown",
   "metadata": {},
   "source": [
    "<a id='wrangling'></a>\n",
    "## Data Wrangling\n",
    "\n",
    "\n",
    "In this section data will be explored in order to be able to visualise an initial picture of how the data looks like."
   ]
  },
  {
   "cell_type": "code",
   "execution_count": 2,
   "metadata": {
    "scrolled": true
   },
   "outputs": [
    {
     "data": {
      "text/html": [
       "<div>\n",
       "<style scoped>\n",
       "    .dataframe tbody tr th:only-of-type {\n",
       "        vertical-align: middle;\n",
       "    }\n",
       "\n",
       "    .dataframe tbody tr th {\n",
       "        vertical-align: top;\n",
       "    }\n",
       "\n",
       "    .dataframe thead th {\n",
       "        text-align: right;\n",
       "    }\n",
       "</style>\n",
       "<table border=\"1\" class=\"dataframe\">\n",
       "  <thead>\n",
       "    <tr style=\"text-align: right;\">\n",
       "      <th></th>\n",
       "      <th>PatientId</th>\n",
       "      <th>AppointmentID</th>\n",
       "      <th>Gender</th>\n",
       "      <th>ScheduledDay</th>\n",
       "      <th>AppointmentDay</th>\n",
       "      <th>Age</th>\n",
       "      <th>Neighbourhood</th>\n",
       "      <th>Scholarship</th>\n",
       "      <th>Hipertension</th>\n",
       "      <th>Diabetes</th>\n",
       "      <th>Alcoholism</th>\n",
       "      <th>Handcap</th>\n",
       "      <th>SMS_received</th>\n",
       "      <th>No-show</th>\n",
       "    </tr>\n",
       "  </thead>\n",
       "  <tbody>\n",
       "    <tr>\n",
       "      <th>0</th>\n",
       "      <td>2.987250e+13</td>\n",
       "      <td>5642903</td>\n",
       "      <td>F</td>\n",
       "      <td>2016-04-29T18:38:08Z</td>\n",
       "      <td>2016-04-29T00:00:00Z</td>\n",
       "      <td>62</td>\n",
       "      <td>JARDIM DA PENHA</td>\n",
       "      <td>0</td>\n",
       "      <td>1</td>\n",
       "      <td>0</td>\n",
       "      <td>0</td>\n",
       "      <td>0</td>\n",
       "      <td>0</td>\n",
       "      <td>No</td>\n",
       "    </tr>\n",
       "    <tr>\n",
       "      <th>1</th>\n",
       "      <td>5.589978e+14</td>\n",
       "      <td>5642503</td>\n",
       "      <td>M</td>\n",
       "      <td>2016-04-29T16:08:27Z</td>\n",
       "      <td>2016-04-29T00:00:00Z</td>\n",
       "      <td>56</td>\n",
       "      <td>JARDIM DA PENHA</td>\n",
       "      <td>0</td>\n",
       "      <td>0</td>\n",
       "      <td>0</td>\n",
       "      <td>0</td>\n",
       "      <td>0</td>\n",
       "      <td>0</td>\n",
       "      <td>No</td>\n",
       "    </tr>\n",
       "    <tr>\n",
       "      <th>2</th>\n",
       "      <td>4.262962e+12</td>\n",
       "      <td>5642549</td>\n",
       "      <td>F</td>\n",
       "      <td>2016-04-29T16:19:04Z</td>\n",
       "      <td>2016-04-29T00:00:00Z</td>\n",
       "      <td>62</td>\n",
       "      <td>MATA DA PRAIA</td>\n",
       "      <td>0</td>\n",
       "      <td>0</td>\n",
       "      <td>0</td>\n",
       "      <td>0</td>\n",
       "      <td>0</td>\n",
       "      <td>0</td>\n",
       "      <td>No</td>\n",
       "    </tr>\n",
       "    <tr>\n",
       "      <th>3</th>\n",
       "      <td>8.679512e+11</td>\n",
       "      <td>5642828</td>\n",
       "      <td>F</td>\n",
       "      <td>2016-04-29T17:29:31Z</td>\n",
       "      <td>2016-04-29T00:00:00Z</td>\n",
       "      <td>8</td>\n",
       "      <td>PONTAL DE CAMBURI</td>\n",
       "      <td>0</td>\n",
       "      <td>0</td>\n",
       "      <td>0</td>\n",
       "      <td>0</td>\n",
       "      <td>0</td>\n",
       "      <td>0</td>\n",
       "      <td>No</td>\n",
       "    </tr>\n",
       "    <tr>\n",
       "      <th>4</th>\n",
       "      <td>8.841186e+12</td>\n",
       "      <td>5642494</td>\n",
       "      <td>F</td>\n",
       "      <td>2016-04-29T16:07:23Z</td>\n",
       "      <td>2016-04-29T00:00:00Z</td>\n",
       "      <td>56</td>\n",
       "      <td>JARDIM DA PENHA</td>\n",
       "      <td>0</td>\n",
       "      <td>1</td>\n",
       "      <td>1</td>\n",
       "      <td>0</td>\n",
       "      <td>0</td>\n",
       "      <td>0</td>\n",
       "      <td>No</td>\n",
       "    </tr>\n",
       "  </tbody>\n",
       "</table>\n",
       "</div>"
      ],
      "text/plain": [
       "      PatientId  AppointmentID Gender          ScheduledDay  \\\n",
       "0  2.987250e+13        5642903      F  2016-04-29T18:38:08Z   \n",
       "1  5.589978e+14        5642503      M  2016-04-29T16:08:27Z   \n",
       "2  4.262962e+12        5642549      F  2016-04-29T16:19:04Z   \n",
       "3  8.679512e+11        5642828      F  2016-04-29T17:29:31Z   \n",
       "4  8.841186e+12        5642494      F  2016-04-29T16:07:23Z   \n",
       "\n",
       "         AppointmentDay  Age      Neighbourhood  Scholarship  Hipertension  \\\n",
       "0  2016-04-29T00:00:00Z   62    JARDIM DA PENHA            0             1   \n",
       "1  2016-04-29T00:00:00Z   56    JARDIM DA PENHA            0             0   \n",
       "2  2016-04-29T00:00:00Z   62      MATA DA PRAIA            0             0   \n",
       "3  2016-04-29T00:00:00Z    8  PONTAL DE CAMBURI            0             0   \n",
       "4  2016-04-29T00:00:00Z   56    JARDIM DA PENHA            0             1   \n",
       "\n",
       "   Diabetes  Alcoholism  Handcap  SMS_received No-show  \n",
       "0         0           0        0             0      No  \n",
       "1         0           0        0             0      No  \n",
       "2         0           0        0             0      No  \n",
       "3         0           0        0             0      No  \n",
       "4         1           0        0             0      No  "
      ]
     },
     "execution_count": 2,
     "metadata": {},
     "output_type": "execute_result"
    }
   ],
   "source": [
    "df = pd.read_csv('noshowappointments-kagglev2-may-2016.csv')\n",
    "df.head()"
   ]
  },
  {
   "cell_type": "code",
   "execution_count": 3,
   "metadata": {},
   "outputs": [
    {
     "data": {
      "text/plain": [
       "(110527, 14)"
      ]
     },
     "execution_count": 3,
     "metadata": {},
     "output_type": "execute_result"
    }
   ],
   "source": [
    "df.shape"
   ]
  },
  {
   "cell_type": "code",
   "execution_count": 4,
   "metadata": {},
   "outputs": [
    {
     "name": "stdout",
     "output_type": "stream",
     "text": [
      "          PatientId  AppointmentID            Age    Scholarship  \\\n",
      "count  1.105270e+05   1.105270e+05  110527.000000  110527.000000   \n",
      "mean   1.474963e+14   5.675305e+06      37.088874       0.098266   \n",
      "std    2.560949e+14   7.129575e+04      23.110205       0.297675   \n",
      "min    3.921784e+04   5.030230e+06      -1.000000       0.000000   \n",
      "25%    4.172614e+12   5.640286e+06      18.000000       0.000000   \n",
      "50%    3.173184e+13   5.680573e+06      37.000000       0.000000   \n",
      "75%    9.439172e+13   5.725524e+06      55.000000       0.000000   \n",
      "max    9.999816e+14   5.790484e+06     115.000000       1.000000   \n",
      "\n",
      "        Hipertension       Diabetes     Alcoholism        Handcap  \\\n",
      "count  110527.000000  110527.000000  110527.000000  110527.000000   \n",
      "mean        0.197246       0.071865       0.030400       0.022248   \n",
      "std         0.397921       0.258265       0.171686       0.161543   \n",
      "min         0.000000       0.000000       0.000000       0.000000   \n",
      "25%         0.000000       0.000000       0.000000       0.000000   \n",
      "50%         0.000000       0.000000       0.000000       0.000000   \n",
      "75%         0.000000       0.000000       0.000000       0.000000   \n",
      "max         1.000000       1.000000       1.000000       4.000000   \n",
      "\n",
      "        SMS_received  \n",
      "count  110527.000000  \n",
      "mean        0.321026  \n",
      "std         0.466873  \n",
      "min         0.000000  \n",
      "25%         0.000000  \n",
      "50%         0.000000  \n",
      "75%         1.000000  \n",
      "max         1.000000  \n",
      "<class 'pandas.core.frame.DataFrame'>\n",
      "RangeIndex: 110527 entries, 0 to 110526\n",
      "Data columns (total 14 columns):\n",
      "PatientId         110527 non-null float64\n",
      "AppointmentID     110527 non-null int64\n",
      "Gender            110527 non-null object\n",
      "ScheduledDay      110527 non-null object\n",
      "AppointmentDay    110527 non-null object\n",
      "Age               110527 non-null int64\n",
      "Neighbourhood     110527 non-null object\n",
      "Scholarship       110527 non-null int64\n",
      "Hipertension      110527 non-null int64\n",
      "Diabetes          110527 non-null int64\n",
      "Alcoholism        110527 non-null int64\n",
      "Handcap           110527 non-null int64\n",
      "SMS_received      110527 non-null int64\n",
      "No-show           110527 non-null object\n",
      "dtypes: float64(1), int64(8), object(5)\n",
      "memory usage: 11.8+ MB\n"
     ]
    }
   ],
   "source": [
    "print(df.describe())\n",
    "df.info()"
   ]
  },
  {
   "cell_type": "code",
   "execution_count": 5,
   "metadata": {},
   "outputs": [
    {
     "data": {
      "image/png": "[encoded data removed]",
      "text/plain": [
       "<matplotlib.figure.Figure at 0x7ffb868dc1d0>"
      ]
     },
     "metadata": {
      "needs_background": "light"
     },
     "output_type": "display_data"
    }
   ],
   "source": [
    "df.hist(figsize=(10,8));\n"
   ]
  },
  {
   "cell_type": "markdown",
   "metadata": {},
   "source": [
    "\n",
    "### Data Cleaning\n"
   ]
  },
  {
   "cell_type": "markdown",
   "metadata": {},
   "source": [
    "For the sake of this investigation some columns will be dropped out of the dataframe as they wouldn't count as variables of certain of effect on the patient showing up or not. These are Patient ID are Appointment ID.\n",
    "\n",
    "From these graphs it can be seen that ratio for Alcoholism, Hipertension, Diabetes, Alcoholism and Handcap columns are very high that it might be misleading to draw conclusion based on them. Hence, these columns will be added to the list of the dropped columns in order to narrow down our investigation."
   ]
  },
  {
   "cell_type": "code",
   "execution_count": 6,
   "metadata": {},
   "outputs": [],
   "source": [
    "df.drop(['Alcoholism','AppointmentID','Hipertension','Diabetes','Alcoholism','Handcap','PatientId'], axis =1, inplace=True)\n"
   ]
  },
  {
   "cell_type": "code",
   "execution_count": 7,
   "metadata": {},
   "outputs": [
    {
     "name": "stdout",
     "output_type": "stream",
     "text": [
      "<class 'pandas.core.frame.DataFrame'>\n",
      "RangeIndex: 110527 entries, 0 to 110526\n",
      "Data columns (total 8 columns):\n",
      "Gender            110527 non-null object\n",
      "ScheduledDay      110527 non-null object\n",
      "AppointmentDay    110527 non-null object\n",
      "Age               110527 non-null int64\n",
      "Neighbourhood     110527 non-null object\n",
      "Scholarship       110527 non-null int64\n",
      "SMS_received      110527 non-null int64\n",
      "No-show           110527 non-null object\n",
      "dtypes: int64(3), object(5)\n",
      "memory usage: 6.7+ MB\n"
     ]
    }
   ],
   "source": [
    "df.info()"
   ]
  },
  {
   "cell_type": "markdown",
   "metadata": {},
   "source": [
    "Looking at the columns and there types, there is space for improvement to better use them in our investigation. Working out the difference between the Scheduled Day and Appointment Day can give us another variable which we will call later Scheduled Gap which is the number of days between the patient scheduling his appointment and attending it, to see whether that can be related to them showing up.\n",
    "To do this the data type for both of them has to be changed to datetime format, extract the date part and make sure it's in date format again, so the difference can be counted in days."
   ]
  },
  {
   "cell_type": "code",
   "execution_count": 8,
   "metadata": {},
   "outputs": [],
   "source": [
    "df['ScheduledDay']= pd.to_datetime(df['ScheduledDay'])\n",
    "df['AppointmentDay']= pd.to_datetime(df['AppointmentDay'])"
   ]
  },
  {
   "cell_type": "code",
   "execution_count": 9,
   "metadata": {},
   "outputs": [],
   "source": [
    "df['ScheduledDay']= df['ScheduledDay'].dt.date\n",
    "df['AppointmentDay']= df['AppointmentDay'].dt.date\n",
    "df['ScheduledDay']= pd.to_datetime(df['ScheduledDay'])\n",
    "df['AppointmentDay']= pd.to_datetime(df['AppointmentDay'])"
   ]
  },
  {
   "cell_type": "code",
   "execution_count": 10,
   "metadata": {
    "scrolled": false
   },
   "outputs": [
    {
     "name": "stdout",
     "output_type": "stream",
     "text": [
      "<class 'pandas.core.frame.DataFrame'>\n",
      "RangeIndex: 110527 entries, 0 to 110526\n",
      "Data columns (total 8 columns):\n",
      "Gender            110527 non-null object\n",
      "ScheduledDay      110527 non-null datetime64[ns]\n",
      "AppointmentDay    110527 non-null datetime64[ns]\n",
      "Age               110527 non-null int64\n",
      "Neighbourhood     110527 non-null object\n",
      "Scholarship       110527 non-null int64\n",
      "SMS_received      110527 non-null int64\n",
      "No-show           110527 non-null object\n",
      "dtypes: datetime64[ns](2), int64(3), object(3)\n",
      "memory usage: 6.7+ MB\n"
     ]
    }
   ],
   "source": [
    "df.info()"
   ]
  },
  {
   "cell_type": "code",
   "execution_count": 11,
   "metadata": {
    "scrolled": true
   },
   "outputs": [
    {
     "name": "stdout",
     "output_type": "stream",
     "text": [
      "<class 'pandas.core.frame.DataFrame'>\n",
      "RangeIndex: 110527 entries, 0 to 110526\n",
      "Data columns (total 9 columns):\n",
      "Gender            110527 non-null object\n",
      "ScheduledDay      110527 non-null datetime64[ns]\n",
      "AppointmentDay    110527 non-null datetime64[ns]\n",
      "Age               110527 non-null int64\n",
      "Neighbourhood     110527 non-null object\n",
      "Scholarship       110527 non-null int64\n",
      "SMS_received      110527 non-null int64\n",
      "No-show           110527 non-null object\n",
      "scheduled_gap     110527 non-null int64\n",
      "dtypes: datetime64[ns](2), int64(4), object(3)\n",
      "memory usage: 7.6+ MB\n",
      "None\n",
      "count    110527.000000\n",
      "mean         10.183702\n",
      "std          15.254996\n",
      "min          -6.000000\n",
      "25%           0.000000\n",
      "50%           4.000000\n",
      "75%          15.000000\n",
      "max         179.000000\n",
      "Name: scheduled_gap, dtype: float64\n"
     ]
    }
   ],
   "source": [
    "df['scheduled_gap']= df['AppointmentDay'].sub(df['ScheduledDay'])\n",
    "df['scheduled_gap']=df['scheduled_gap'].dt.days\n",
    "print(df.info())\n",
    "print(df['scheduled_gap'].describe())"
   ]
  },
  {
   "cell_type": "code",
   "execution_count": 12,
   "metadata": {},
   "outputs": [],
   "source": [
    "df = df.drop(df[df.scheduled_gap < 0].index)"
   ]
  },
  {
   "cell_type": "markdown",
   "metadata": {},
   "source": [
    "To remove any scheduled gap less than 0 days."
   ]
  },
  {
   "cell_type": "code",
   "execution_count": 13,
   "metadata": {},
   "outputs": [],
   "source": [
    "#In here the No-show column is renamed to abscence,\n",
    "#the yes and no indicating Abscence are no indicated using\n",
    "#present and abscent to ease filtering in our following analysis.\n",
    "\n",
    "df.rename(columns = {'No-show':'Abscence'},inplace = True)\n",
    "present = df.Abscence == 'No'\n",
    "abscent = df.Abscence == 'Yes'"
   ]
  },
  {
   "cell_type": "markdown",
   "metadata": {},
   "source": [
    "As it can be seen in the above code that a new column called 'scheduled_gap' has been added to the data frame with integer values that will be used later in our analysis.\n",
    "\n",
    "At this stage we are done with our data wrangling and cleaning, and will move to the exploration stage."
   ]
  },
  {
   "cell_type": "markdown",
   "metadata": {},
   "source": [
    "<a id='eda'></a>\n",
    "## Exploratory Data Analysis\n",
    "\n",
    "\n",
    "\n",
    "### What is the relationship between the Scheduled Gap and the patient showing up to the appointment?"
   ]
  },
  {
   "cell_type": "code",
   "execution_count": 14,
   "metadata": {},
   "outputs": [
    {
     "name": "stdout",
     "output_type": "stream",
     "text": [
      "Mean number of scheduled gap days for those who made it to the appointment= 9.0\n",
      "Mean number of scheduled gap days for those who missed the appointment= 16.0\n"
     ]
    }
   ],
   "source": [
    "print('Mean number of scheduled gap days for those who made it to the appointment=', df.scheduled_gap[present].mean().round())\n",
    "print('Mean number of scheduled gap days for those who missed the appointment=',df.scheduled_gap[abscent].mean().round())"
   ]
  },
  {
   "cell_type": "code",
   "execution_count": 15,
   "metadata": {
    "scrolled": true
   },
   "outputs": [
    {
     "data": {
      "image/png": "[encoded data removed]",
      "text/plain": [
       "<matplotlib.figure.Figure at 0x7ffb866176a0>"
      ]
     },
     "metadata": {
      "needs_background": "light"
     },
     "output_type": "display_data"
    }
   ],
   "source": [
    "def plotX(df):\n",
    "    df.scheduled_gap[present].hist(alpha=0.5, bins=15, label='present')\n",
    "    df.scheduled_gap[abscent].hist(alpha=0.5, bins=15, label='abscent')\n",
    "    plt.title(\"Scheduled Gap vs Attendance\")\n",
    "    plt.xlabel('Scheduled Gap')\n",
    "    plt.ylabel('Attendance')\n",
    "    plt.legend()\n",
    "plotX(df)"
   ]
  },
  {
   "cell_type": "markdown",
   "metadata": {},
   "source": [
    "From these statistical values and graph, the patients who showed up has overall less scheduled gap days with mean value of 9 days, while patient who missed it tend to have more scheduled gap days with mean value of 16 days. In other words, the longer the scheduled gap the more likely the patients will not show up to their appointment.\n",
    "This is predicted as people who schedule for a long-term would not consider the circumstances that might hinder them from showing up, however, people who schedule for a week or so would have better idea of their time and be more prepared."
   ]
  },
  {
   "cell_type": "markdown",
   "metadata": {},
   "source": [
    "\n",
    "### What is the relationship between the Gender and the patient showing up to the appointment?"
   ]
  },
  {
   "cell_type": "code",
   "execution_count": 16,
   "metadata": {},
   "outputs": [
    {
     "name": "stdout",
     "output_type": "stream",
     "text": [
      "Gender  Abscence\n",
      "F       No          57246\n",
      "        Yes         14591\n",
      "M       No          30962\n",
      "        Yes          7723\n",
      "Name: Abscence, dtype: int64\n"
     ]
    },
    {
     "data": {
      "image/png": "[encoded data removed]",
      "text/plain": [
       "<matplotlib.figure.Figure at 0x7ffb866b1780>"
      ]
     },
     "metadata": {
      "needs_background": "light"
     },
     "output_type": "display_data"
    }
   ],
   "source": [
    "print(df.groupby('Gender').Abscence.value_counts())\n",
    "df.groupby('Gender').Abscence.value_counts().plot(kind='bar');"
   ]
  },
  {
   "cell_type": "markdown",
   "metadata": {},
   "source": [
    "The ratio between Females attending and not attending is 57246/14591 i.e. 4:1, and the ratio between Males attending and not attending is 30962/7723 i.e. 4:1 as well. It is true that there overall more women going to the medical appointments, however the ratio between showing and not showing up is relatively the same. Hence, it can be concluded that there is no direct relationship between the Gender and the patient showing up."
   ]
  },
  {
   "cell_type": "markdown",
   "metadata": {},
   "source": [
    "\n",
    "### What is the relationship between the Age and the patient showing up to the appointment?"
   ]
  },
  {
   "cell_type": "code",
   "execution_count": 17,
   "metadata": {
    "scrolled": true
   },
   "outputs": [
    {
     "data": {
      "image/png": "[encoded data removed]",
      "text/plain": [
       "<matplotlib.figure.Figure at 0x7ffb86468710>"
      ]
     },
     "metadata": {
      "needs_background": "light"
     },
     "output_type": "display_data"
    }
   ],
   "source": [
    "df.Age[present].hist(alpha=0.5, bins=30, label='present')\n",
    "df.Age[abscent].hist(alpha=0.5, bins=30, label='abscent')\n",
    "plt.legend();"
   ]
  },
  {
   "cell_type": "code",
   "execution_count": 18,
   "metadata": {},
   "outputs": [
    {
     "name": "stdout",
     "output_type": "stream",
     "text": [
      "Mean age for those who made it to the appointment= 38.0\n",
      "Mean age for those who missed the appointment= 34.0\n",
      "Standard deviation of age for those who made it to the appointment= 23.0\n",
      "Standard deviation of age for those who missed the appointment= 22.0\n"
     ]
    }
   ],
   "source": [
    "print('Mean age for those who made it to the appointment=', df.Age[present].mean().round())\n",
    "print('Mean age for those who missed the appointment=',df.Age[abscent].mean().round())\n",
    "print('Standard deviation of age for those who made it to the appointment=', df.Age[present].std().round())\n",
    "print('Standard deviation of age for those who missed the appointment=',df.Age[abscent].std().round())"
   ]
  },
  {
   "cell_type": "markdown",
   "metadata": {},
   "source": [
    "From the graph it appears that the distribution of abscence and presence is the same for both cases. Both are right skewed. And seems to be with the same ratio. The mean values also show this fact as they are quite close to each other 34 and 38 within a spectrum of 115 years old. And again both show relatively similar standard deviation values, which shows that the age distribution is relatively similar for both."
   ]
  },
  {
   "cell_type": "markdown",
   "metadata": {},
   "source": [
    "### What is the relationship between the Neighbourhoods and the patient showing up to the appointment?"
   ]
  },
  {
   "cell_type": "markdown",
   "metadata": {},
   "source": [
    "In this section, data will be extracted into a new dataframe named  Neighbourhood_Dataset, the data in it will be extracted from the df dataframe and analysed separately. The final variable that needs to be calculated is the attendance percentage from each Neighbourhood, in order to verify whether there is a relationship between the patients' Neighbourhoods and them attending the appointment. That can be due to transportation, long distance, or the culture of each neighbourhood."
   ]
  },
  {
   "cell_type": "markdown",
   "metadata": {},
   "source": [
    "These are the steps followed to do so:\n",
    "1. extract the total number of patients in each neighbourhood in a series called freq\n",
    "2. extract the number of those who showed up in each neighbourhood in a series called present_loc\n",
    "3. extract the number of those who didn't show up in each neighbourhood in a series called abscent_loc\n",
    "4. merge the 4 series together in a new dataframe called Neighbourhood_Dataset\n",
    "5. work out the percentage of those who attended in a new column called attendance_percentage"
   ]
  },
  {
   "cell_type": "code",
   "execution_count": 19,
   "metadata": {},
   "outputs": [
    {
     "name": "stdout",
     "output_type": "stream",
     "text": [
      "<class 'pandas.core.frame.DataFrame'>\n",
      "Int64Index: 81 entries, 0 to 80\n",
      "Data columns (total 5 columns):\n",
      "location                 81 non-null object\n",
      "count_present            81 non-null float64\n",
      "count_abscent            81 non-null float64\n",
      "count_all                81 non-null int64\n",
      "attendance_percentage    81 non-null float64\n",
      "dtypes: float64(3), int64(1), object(1)\n",
      "memory usage: 3.8+ KB\n"
     ]
    }
   ],
   "source": [
    "present_loc = df.Neighbourhood[present].value_counts().to_frame().reset_index()\n",
    "abscent_loc = df.Neighbourhood[abscent].value_counts().to_frame().reset_index()\n",
    "freq = df['Neighbourhood'].value_counts().to_frame().reset_index()\n",
    "present_loc.columns = ['location','count_present']\n",
    "abscent_loc.columns = ['location','count_abscent']\n",
    "freq.columns = ['location','count_all']\n",
    "\n",
    "Neighbourhood_Dataset = pd.merge(present_loc,abscent_loc, how='outer', on='location')\n",
    "Neighbourhood_Dataset = pd.merge(Neighbourhood_Dataset,freq, how='outer', on='location')\n",
    "Neighbourhood_Dataset['attendance_percentage']=Neighbourhood_Dataset['count_present']/Neighbourhood_Dataset['count_all']*100\n",
    "Neighbourhood_Dataset.replace(to_replace = np.nan, value = 0, inplace = True)\n",
    "Neighbourhood_Dataset.info()\n"
   ]
  },
  {
   "cell_type": "code",
   "execution_count": 20,
   "metadata": {},
   "outputs": [
    {
     "data": {
      "image/png": "[encoded data removed]",
      "text/plain": [
       "<matplotlib.figure.Figure at 0x7ffb865ac978>"
      ]
     },
     "metadata": {
      "needs_background": "light"
     },
     "output_type": "display_data"
    }
   ],
   "source": [
    "Neighbourhood_Dataset.plot( x='location', y='attendance_percentage', kind='hist');"
   ]
  },
  {
   "cell_type": "markdown",
   "metadata": {},
   "source": [
    "From the graph, it can be seen that for the 81 neighbourhood, the attendance percentage ranged mainly between 70% and 90%, for almost all of them, with a couple of outliers at 0% and 100%. With that at hand, it doesn't seem that the nieghbourhood has something to do with predicting the patient attendance."
   ]
  },
  {
   "cell_type": "markdown",
   "metadata": {},
   "source": [
    "### What is the relationship between the Scholarship and the patient showing up to the appointment?"
   ]
  },
  {
   "cell_type": "code",
   "execution_count": 21,
   "metadata": {},
   "outputs": [
    {
     "name": "stdout",
     "output_type": "stream",
     "text": [
      "Scholarship  Abscence\n",
      "0            No          79925\n",
      "             Yes         19736\n",
      "1            No           8283\n",
      "             Yes          2578\n",
      "Name: Abscence, dtype: int64\n"
     ]
    }
   ],
   "source": [
    "print(df.groupby('Scholarship').Abscence.value_counts())"
   ]
  },
  {
   "cell_type": "markdown",
   "metadata": {},
   "source": [
    "In this section the df dataframe was grouped by the scholarship to analyse whether the patient having a scholarship would affect their behaviour in terms of showing up. From these values it can be seen that ratio in both cases is relatively the same of approximately 3.4. Which again doesn't show a certain correlation between having a scolarhsip and showing up for the appointment."
   ]
  },
  {
   "cell_type": "markdown",
   "metadata": {},
   "source": [
    "<a id='conclusions'></a>\n",
    "## Conclusions\n",
    "\n",
    "From the investigation carried out above between the Scheduled Gap, Age, Neighbourhood, Gender, Scholarship and Attendance variables. It can be concluded that the main influence on the Attendance among these variables was \n",
    "the Scheduled Gap variable. \n",
    "\n",
    "There we saw a clear tendency of showing up for those who scheduled close to the appointment date.\n",
    "\n",
    "For Age there were more young aged patients overall but there was no clear correlation between age and attendance.\n",
    "\n",
    "For Neighbourhood, Gender and Scholarship they did not seem to have direct relation ship with the patient showing up.\n",
    "\n",
    "Some of the limitations are that the number of people who had scholarships is relatively low compared to those who didn't have. So drawing a conclusion based on the given data might not be representative of the real scenario. \n",
    "Same goes for the Alcoholism and Diabetes columns the number of alcoholic and diabetic people is too low that it is not realstic to draw conclusion based on these values.\n",
    "\n"
   ]
  },
  {
   "cell_type": "code",
   "execution_count": 22,
   "metadata": {},
   "outputs": [
    {
     "data": {
      "text/plain": [
       "0"
      ]
     },
     "execution_count": 22,
     "metadata": {},
     "output_type": "execute_result"
    }
   ],
   "source": [
    "from subprocess import call\n",
    "call(['python', '-m', 'nbconvert', 'Investigate_a_Dataset.ipynb'])"
   ]
  }
 ],
 "metadata": {
  "kernelspec": {
   "display_name": "Python 3",
   "language": "python",
   "name": "python3"
  },
  "language_info": {
   "codemirror_mode": {
    "name": "ipython",
    "version": 3
   },
   "file_extension": ".py",
   "mimetype": "text/x-python",
   "name": "python",
   "nbconvert_exporter": "python",
   "pygments_lexer": "ipython3",
   "version": "3.6.3"
  }
 },
 "nbformat": 4,
 "nbformat_minor": 2
}
